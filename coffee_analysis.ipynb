{
 "cells": [
  {
   "cell_type": "code",
   "execution_count": 62,
   "metadata": {
    "collapsed": true
   },
   "outputs": [],
   "source": [
    "import numpy as np\n",
    "import pandas as pd\n",
    "from matplotlib import pyplot as plt\n",
    "\n",
    "% matplotlib inline"
   ]
  },
  {
   "cell_type": "code",
   "execution_count": 63,
   "metadata": {
    "collapsed": false
   },
   "outputs": [],
   "source": [
    "data = pd.read_csv(\"data/DOHMH_unique_inspections.csv\")"
   ]
  },
  {
   "cell_type": "code",
   "execution_count": 65,
   "metadata": {
    "collapsed": false
   },
   "outputs": [],
   "source": [
    "data[\"INSPECTION DATE\"] = pd.to_datetime(data[\"INSPECTION DATE\"], infer_datetime_format=True)\n",
    "data[\"GRADE DATE\"] = pd.to_datetime(data[\"GRADE DATE\"], infer_datetime_format=True)\n",
    "data[\"RECORD DATE\"] = pd.to_datetime(data[\"RECORD DATE\"], infer_datetime_format=True)"
   ]
  },
  {
   "cell_type": "code",
   "execution_count": 66,
   "metadata": {
    "collapsed": false
   },
   "outputs": [],
   "source": [
    "# newestInspect = lambda x: x.loc[x[\"INSPECTION DATE\"].argmax()]\n",
    "data[\"NEWEST DATE\"] = data.groupby(\"CAMIS\")[\"INSPECTION DATE\"].transform(max)"
   ]
  },
  {
   "cell_type": "code",
   "execution_count": 67,
   "metadata": {
    "collapsed": false
   },
   "outputs": [],
   "source": [
    "data = data[data[\"INSPECTION DATE\"]==data[\"NEWEST DATE\"]]"
   ]
  },
  {
   "cell_type": "code",
   "execution_count": 68,
   "metadata": {
    "collapsed": false
   },
   "outputs": [],
   "source": [
    "coffeeData = data[(data[\"CUISINE DESCRIPTION\"]==\"CafÃ©/Coffee/Tea\")|\n",
    "                  (data[\"CUISINE DESCRIPTION\"]==\"Donuts\")].copy()"
   ]
  },
  {
   "cell_type": "code",
   "execution_count": 69,
   "metadata": {
    "collapsed": false
   },
   "outputs": [],
   "source": [
    "coffeeData[\"storetype\"] = \"other\"\n",
    "coffeeData.loc[coffeeData[\"DBA\"].str.contains(\"dunkin.*donuts\", case=False), \"storetype\"] = \"dunkin\"\n",
    "coffeeData.loc[coffeeData[\"DBA\"].str.contains(\"starbuck\", case=False), \"storetype\"] = \"starbucks\""
   ]
  },
  {
   "cell_type": "code",
   "execution_count": 70,
   "metadata": {
    "collapsed": false
   },
   "outputs": [],
   "source": [
    "coffeeData = coffeeData.reset_index(drop=True)\n",
    "#coffeeData = coffeeData.drop(\"level_0\", axis=1)\n",
    "\n",
    "\n",
    "coffeeData = pd.concat([coffeeData, pd.get_dummies(coffeeData[\"storetype\"])], axis=1)\n",
    "#coffeeData.index.levels()"
   ]
  },
  {
   "cell_type": "code",
   "execution_count": 72,
   "metadata": {
    "collapsed": false
   },
   "outputs": [],
   "source": [
    "zipGroups = coffeeData.groupby(\"ZIPCODE\")[[\"dunkin\", \"other\", \"starbucks\"]].agg(np.sum)"
   ]
  },
  {
   "cell_type": "code",
   "execution_count": 73,
   "metadata": {
    "collapsed": false
   },
   "outputs": [],
   "source": [
    "# combine zip groups to match shape file: 11241 is within 11201, \n",
    "# and 11249/11211 are one shape in the shape file\n",
    "zipGroups.loc[11201,:] = zipGroups.loc[11201,:] + zipGroups.loc[11241,:]\n",
    "zipGroups.loc[11211,:] = zipGroups.loc[11211,:] + zipGroups.loc[11249,:]\n",
    "zipGroups = zipGroups.drop([11241, 11249])"
   ]
  },
  {
   "cell_type": "code",
   "execution_count": 74,
   "metadata": {
    "collapsed": false
   },
   "outputs": [],
   "source": [
    "zipGroups[\"total\"] = zipGroups.sum(axis=1)"
   ]
  },
  {
   "cell_type": "code",
   "execution_count": 75,
   "metadata": {
    "collapsed": false
   },
   "outputs": [],
   "source": [
    "for brand in [\"dunkin\", \"starbucks\", \"other\"]:\n",
    "    zipGroups[brand + \"_prop\"] = zipGroups[brand]/zipGroups[\"total\"]"
   ]
  },
  {
   "cell_type": "code",
   "execution_count": 76,
   "metadata": {
    "collapsed": false
   },
   "outputs": [],
   "source": [
    "zipGroups[\"total_prop\"] = 1.0"
   ]
  },
  {
   "cell_type": "code",
   "execution_count": 77,
   "metadata": {
    "collapsed": false
   },
   "outputs": [],
   "source": [
    "zipGroups = zipGroups.reset_index().rename(index=str, columns={\"ZIPCODE\": \"zip\"})"
   ]
  },
  {
   "cell_type": "code",
   "execution_count": 79,
   "metadata": {
    "collapsed": false
   },
   "outputs": [],
   "source": [
    "import json\n",
    "with open('data/nyc-zip-code.json') as json_file:\n",
    "    zipshapes = json.load(json_file)"
   ]
  },
  {
   "cell_type": "code",
   "execution_count": 80,
   "metadata": {
    "collapsed": false
   },
   "outputs": [
    {
     "data": {
      "text/plain": [
       "262"
      ]
     },
     "execution_count": 80,
     "metadata": {},
     "output_type": "execute_result"
    }
   ],
   "source": [
    "len(zipshapes[\"features\"])"
   ]
  },
  {
   "cell_type": "code",
   "execution_count": 81,
   "metadata": {
    "collapsed": false
   },
   "outputs": [],
   "source": [
    "zipshapes = pd.DataFrame(map(lambda x: {\"zip\": x[\"properties\"][\"ZIP\"],\n",
    "                                    \"area\": x[\"properties\"][\"Shape_Area\"]}, \n",
    "zipshapes[\"features\"])).groupby(\"zip\").agg(np.sum).reset_index()"
   ]
  },
  {
   "cell_type": "code",
   "execution_count": 82,
   "metadata": {
    "collapsed": false
   },
   "outputs": [],
   "source": [
    "zipshapes[\"zip\"] = zipshapes[\"zip\"].astype(int)"
   ]
  },
  {
   "cell_type": "code",
   "execution_count": 84,
   "metadata": {
    "collapsed": false
   },
   "outputs": [],
   "source": [
    "zipGroups = zipGroups.merge(zipshapes, on=\"zip\", how=\"left\")"
   ]
  },
  {
   "cell_type": "code",
   "execution_count": 85,
   "metadata": {
    "collapsed": false
   },
   "outputs": [],
   "source": [
    "zipGroups['area'] = zipGroups['area'] / 27878400.0"
   ]
  },
  {
   "cell_type": "code",
   "execution_count": 89,
   "metadata": {
    "collapsed": true
   },
   "outputs": [],
   "source": [
    "zipGroups.to_csv(\"data/coffee_per_zip.csv\", float_format='%.5f')"
   ]
  }
 ],
 "metadata": {
  "kernelspec": {
   "display_name": "Python 2",
   "language": "python",
   "name": "python2"
  },
  "language_info": {
   "codemirror_mode": {
    "name": "ipython",
    "version": 2
   },
   "file_extension": ".py",
   "mimetype": "text/x-python",
   "name": "python",
   "nbconvert_exporter": "python",
   "pygments_lexer": "ipython2",
   "version": "2.7.13"
  }
 },
 "nbformat": 4,
 "nbformat_minor": 0
}
